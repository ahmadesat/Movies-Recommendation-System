{
 "cells": [
  {
   "cell_type": "markdown",
   "metadata": {},
   "source": [
    "## Item-Based Movie Recommendation System\n",
    "# If you want to add your own user_id, open 'u.data' file and add your own user as user_id = 0, with your own movie ratings"
   ]
  },
  {
   "cell_type": "code",
   "execution_count": null,
   "metadata": {},
   "outputs": [],
   "source": [
    "import numpy as np\n",
    "import pandas as pd\n",
    "import os\n",
    "from pathlib import Path\n",
    "ratings_file = os.path.join(Path().absolute(), \"ml-100k/u.data\")\n",
    "movies_file = os.path.join(Path().absolute(), \"ml-100k/u.item\")\n",
    "\n",
    "rating_cols = [\"user_id\",\"movie_id\",\"rating\"]\n",
    "ratings = pd.read_csv(ratings_file, sep='\\t', names=rating_cols, usecols=range(3),encoding='latin-1')\n",
    "\n",
    "movie_cols = ['movie_id','title']\n",
    "movies = pd.read_csv(movies_file, sep='|', names=movie_cols, usecols=range(2),encoding='latin-1')\n",
    "\n",
    "ratings = pd.merge(movies,ratings)"
   ]
  },
  {
   "cell_type": "code",
   "execution_count": null,
   "metadata": {},
   "outputs": [],
   "source": [
    "userRatings = ratings.pivot_table(index=['user_id'], columns=['title'],values='rating')\n",
    "correlationTable = userRatings.corr(method='pearson', min_periods=100)"
   ]
  },
  {
   "cell_type": "code",
   "execution_count": null,
   "metadata": {},
   "outputs": [],
   "source": [
    "#user variable should be an integer of the number of user_id that you are using\n",
    "def recommendMovies(user):\n",
    "    myRatings = userRatings.loc[user].dropna().sort_values(ascending=False)\n",
    "    \n",
    "    similarCandidates = pd.Series()\n",
    "    for i in range(0, len(myRatings.index)):\n",
    "        print (\"Adding similarities for \" + myRatings.index[i] + \"...\")\n",
    "\n",
    "        #Retrieving similar movies to the one that is rated\n",
    "        sims = correlationTable[myRatings.index[i]].dropna()\n",
    "\n",
    "        #Scale the similaritiy by how high the rating of this movie was\n",
    "        #This will give more strength to the movies rated 5, and less strength\n",
    "        #to the movies rated 1\n",
    "        sims = sims.map(lambda x: x*myRatings[i])\n",
    "        #series .map(function) , replaces each value in the Series with the value output of the function inside map\n",
    "\n",
    "\n",
    "        #Add the score \"sims\" to the list of similar candidates of the movie\n",
    "        similarCandidates = similarCandidates.append(sims)\n",
    "\n",
    "        \n",
    "    print (\"\\n\\nSorting...\\n\")\n",
    "    similarCandidates = similarCandidates.sort_values(ascending=False)\n",
    "    \n",
    "    #We use groupby() to add together the scores from movies \n",
    "    similarCandidates = similarCandidates.groupby(similarCandidates.index).sum()\n",
    "    similarCandidates = similarCandidates.sort_values(ascending=False)\n",
    "    \n",
    "    \n",
    "    #A for loop that checks if the recommended movie has already been watched and rated, and removes it if it is.\n",
    "    for x in myRatings.index:\n",
    "        if x in similarCandidates:\n",
    "            similarCandidates = similarCandidates.drop(x)\n",
    "\n",
    "        else:\n",
    "            pass\n",
    "        \n",
    "        \n",
    "    print(\"Your Top 15 Recommended Movies Are: \")\n",
    "    return similarCandidates"
   ]
  },
  {
   "cell_type": "code",
   "execution_count": null,
   "metadata": {},
   "outputs": [],
   "source": [
    "#Change the parameter value \"8\" to any user_id you want to check the recommended Movies for that user.\n",
    "\n",
    "\n",
    "recommendMovies(8).head(15)"
   ]
  },
  {
   "cell_type": "code",
   "execution_count": null,
   "metadata": {},
   "outputs": [],
   "source": []
  }
 ],
 "metadata": {
  "kernelspec": {
   "display_name": "Python 3",
   "language": "python",
   "name": "python3"
  },
  "language_info": {
   "codemirror_mode": {
    "name": "ipython",
    "version": 3
   },
   "file_extension": ".py",
   "mimetype": "text/x-python",
   "name": "python",
   "nbconvert_exporter": "python",
   "pygments_lexer": "ipython3",
   "version": "3.7.4"
  }
 },
 "nbformat": 4,
 "nbformat_minor": 2
}
